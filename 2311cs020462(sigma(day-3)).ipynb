{
 "cells": [
  {
   "cell_type": "code",
   "execution_count": 3,
   "id": "83ad0112",
   "metadata": {},
   "outputs": [
    {
     "name": "stdout",
     "output_type": "stream",
     "text": [
      "Enter marks for subject 1: 67\n",
      "Enter marks for subject 2: 54\n",
      "Enter marks for subject 3: 65\n",
      "Grade:Fail\n"
     ]
    }
   ],
   "source": [
    "a = float (input(\"Enter marks for subject 1: \"))\n",
    "b = float (input(\"Enter marks for subject 2: \"))\n",
    "c = float (input(\"Enter marks for subject 3: \"))\n",
    "avg = (a + b + c) / 3\n",
    "if avg >= 90:\n",
    "    result = \"A\"\n",
    "elif 80 <= avg < 90:\n",
    "    result = \"B\"\n",
    "elif 70 <=avg < 80:\n",
    "    result = \"c\"\n",
    "else:\n",
    "    result = \"Fail\"\n",
    "print (f\"Grade:{result}\")"
   ]
  },
  {
   "cell_type": "code",
   "execution_count": null,
   "id": "eadb3cc8",
   "metadata": {},
   "outputs": [],
   "source": []
  }
 ],
 "metadata": {
  "kernelspec": {
   "display_name": "Python [conda env:base] *",
   "language": "python",
   "name": "conda-base-py"
  },
  "language_info": {
   "codemirror_mode": {
    "name": "ipython",
    "version": 3
   },
   "file_extension": ".py",
   "mimetype": "text/x-python",
   "name": "python",
   "nbconvert_exporter": "python",
   "pygments_lexer": "ipython3",
   "version": "3.12.7"
  }
 },
 "nbformat": 4,
 "nbformat_minor": 5
}
